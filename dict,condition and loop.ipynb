{
 "cells": [
  {
   "cell_type": "code",
   "execution_count": 1,
   "id": "3aea8e23-10e0-4294-96af-5b8f53878a87",
   "metadata": {},
   "outputs": [],
   "source": [
    "d={}"
   ]
  },
  {
   "cell_type": "code",
   "execution_count": 2,
   "id": "7d1a3c8c-4638-4f25-b2b0-e319a2400200",
   "metadata": {},
   "outputs": [
    {
     "data": {
      "text/plain": [
       "dict"
      ]
     },
     "execution_count": 2,
     "metadata": {},
     "output_type": "execute_result"
    }
   ],
   "source": [
    "type(d)"
   ]
  },
  {
   "cell_type": "code",
   "execution_count": 3,
   "id": "565b5c58-fa2c-48cf-b972-5ad6a79aaf65",
   "metadata": {},
   "outputs": [],
   "source": [
    "d1={'key':'book','name':'prabhat'}"
   ]
  },
  {
   "cell_type": "code",
   "execution_count": 4,
   "id": "91361643-536f-4a65-9c64-9628c4cee446",
   "metadata": {},
   "outputs": [
    {
     "data": {
      "text/plain": [
       "{'key': 'book', 'name': 'prabhat'}"
      ]
     },
     "execution_count": 4,
     "metadata": {},
     "output_type": "execute_result"
    }
   ],
   "source": [
    "d1"
   ]
  },
  {
   "cell_type": "code",
   "execution_count": 11,
   "id": "ab8f72bc-2788-45dd-909e-6b2ecedb9fb9",
   "metadata": {},
   "outputs": [],
   "source": [
    "d2={'gmail':'prabhat@gamil.com',True:123,23:2.45}"
   ]
  },
  {
   "cell_type": "code",
   "execution_count": 12,
   "id": "3fd94170-dfd1-4332-8002-29562df06b1a",
   "metadata": {},
   "outputs": [
    {
     "data": {
      "text/plain": [
       "{'gmail': 'prabhat@gamil.com', True: 123, 23: 2.45}"
      ]
     },
     "execution_count": 12,
     "metadata": {},
     "output_type": "execute_result"
    }
   ],
   "source": [
    "d2"
   ]
  },
  {
   "cell_type": "code",
   "execution_count": 9,
   "id": "e5476339-a445-4d5f-b891-247217644a4b",
   "metadata": {},
   "outputs": [],
   "source": [
    "d3={'_jk':'mani'}"
   ]
  },
  {
   "cell_type": "code",
   "execution_count": 10,
   "id": "373e7c16-92a0-40d7-805b-9668f6e1d610",
   "metadata": {},
   "outputs": [
    {
     "data": {
      "text/plain": [
       "{'_jk': 'mani'}"
      ]
     },
     "execution_count": 10,
     "metadata": {},
     "output_type": "execute_result"
    }
   ],
   "source": [
    "d3"
   ]
  },
  {
   "cell_type": "code",
   "execution_count": 14,
   "id": "b92ee8db-2219-4fbf-8e8c-5de2e31a03e6",
   "metadata": {},
   "outputs": [
    {
     "data": {
      "text/plain": [
       "'prabhat@gamil.com'"
      ]
     },
     "execution_count": 14,
     "metadata": {},
     "output_type": "execute_result"
    }
   ],
   "source": [
    "d2['gmail']"
   ]
  },
  {
   "cell_type": "code",
   "execution_count": 15,
   "id": "63c321f5-5a16-4f38-90cd-4a87c320e6ad",
   "metadata": {},
   "outputs": [
    {
     "data": {
      "text/plain": [
       "123"
      ]
     },
     "execution_count": 15,
     "metadata": {},
     "output_type": "execute_result"
    }
   ],
   "source": [
    "d2[1]"
   ]
  },
  {
   "cell_type": "code",
   "execution_count": 16,
   "id": "58182294-c55d-4c65-92fb-f295f5bf5f4a",
   "metadata": {},
   "outputs": [
    {
     "data": {
      "text/plain": [
       "2.45"
      ]
     },
     "execution_count": 16,
     "metadata": {},
     "output_type": "execute_result"
    }
   ],
   "source": [
    "d2[23]"
   ]
  },
  {
   "cell_type": "code",
   "execution_count": 17,
   "id": "bd149236-1500-428b-a3a2-059a1f8556fe",
   "metadata": {},
   "outputs": [],
   "source": [
    "d4={'name':'pk','boys':'girls','name':'nalesh'}"
   ]
  },
  {
   "cell_type": "code",
   "execution_count": 18,
   "id": "b1b67b23-e284-416f-babf-ad53e5e49b11",
   "metadata": {},
   "outputs": [
    {
     "data": {
      "text/plain": [
       "{'name': 'nalesh', 'boys': 'girls'}"
      ]
     },
     "execution_count": 18,
     "metadata": {},
     "output_type": "execute_result"
    }
   ],
   "source": [
    "d4"
   ]
  },
  {
   "cell_type": "code",
   "execution_count": 21,
   "id": "5f93f559-1143-40b3-885d-f0c6a5680593",
   "metadata": {},
   "outputs": [
    {
     "data": {
      "text/plain": [
       "'nalesh'"
      ]
     },
     "execution_count": 21,
     "metadata": {},
     "output_type": "execute_result"
    }
   ],
   "source": [
    "d4['name']"
   ]
  },
  {
   "cell_type": "code",
   "execution_count": 23,
   "id": "09e15fcc-719a-43c9-9fea-1a355e9e02bb",
   "metadata": {},
   "outputs": [
    {
     "data": {
      "text/plain": [
       "'le'"
      ]
     },
     "execution_count": 23,
     "metadata": {},
     "output_type": "execute_result"
    }
   ],
   "source": [
    "d4['name'][2:4]"
   ]
  },
  {
   "cell_type": "code",
   "execution_count": 25,
   "id": "726b2c0f-2faa-4558-9df5-ff2b5a775702",
   "metadata": {},
   "outputs": [],
   "source": [
    "d5={'my gmail':'pkmech','course':'math at 8pm and phy at 10pm','mobile number':7259121353,'dict':[2,45,True,'mail'],'nail':('pkgupta',3,5,7),'mitoo':{'lal':'paths','naish':False}}"
   ]
  },
  {
   "cell_type": "code",
   "execution_count": 26,
   "id": "d8be31db-c127-42a2-93d9-27b8e2113e5f",
   "metadata": {},
   "outputs": [
    {
     "data": {
      "text/plain": [
       "{'my gmail': 'pkmech',\n",
       " 'course': 'math at 8pm and phy at 10pm',\n",
       " 'mobile number': 7259121353,\n",
       " 'dict': [2, 45, True, 'mail'],\n",
       " 'nail': ('pkgupta', 3, 5, 7),\n",
       " 'mitoo': {'lal': 'paths', 'naish': False}}"
      ]
     },
     "execution_count": 26,
     "metadata": {},
     "output_type": "execute_result"
    }
   ],
   "source": [
    "d5"
   ]
  },
  {
   "cell_type": "code",
   "execution_count": 27,
   "id": "59024c4e-c844-4102-9c4e-647ce7da4509",
   "metadata": {},
   "outputs": [
    {
     "data": {
      "text/plain": [
       "7259121353"
      ]
     },
     "execution_count": 27,
     "metadata": {},
     "output_type": "execute_result"
    }
   ],
   "source": [
    "d5['mobile number']"
   ]
  },
  {
   "cell_type": "code",
   "execution_count": 28,
   "id": "3c0ce7aa-840c-408f-ae3f-18648d036108",
   "metadata": {},
   "outputs": [
    {
     "ename": "TypeError",
     "evalue": "'int' object is not subscriptable",
     "output_type": "error",
     "traceback": [
      "\u001b[0;31m---------------------------------------------------------------------------\u001b[0m",
      "\u001b[0;31mTypeError\u001b[0m                                 Traceback (most recent call last)",
      "Cell \u001b[0;32mIn[28], line 1\u001b[0m\n\u001b[0;32m----> 1\u001b[0m \u001b[43md5\u001b[49m\u001b[43m[\u001b[49m\u001b[38;5;124;43m'\u001b[39;49m\u001b[38;5;124;43mmobile number\u001b[39;49m\u001b[38;5;124;43m'\u001b[39;49m\u001b[43m]\u001b[49m\u001b[43m[\u001b[49m\u001b[38;5;241;43m3\u001b[39;49m\u001b[43m]\u001b[49m\n",
      "\u001b[0;31mTypeError\u001b[0m: 'int' object is not subscriptable"
     ]
    }
   ],
   "source": [
    "d5['mobile number']"
   ]
  },
  {
   "cell_type": "code",
   "execution_count": 29,
   "id": "b50aa23a-647c-4f86-b6c8-ce9987c2fcf0",
   "metadata": {},
   "outputs": [
    {
     "data": {
      "text/plain": [
       "'math at 8pm and phy at 10pm'"
      ]
     },
     "execution_count": 29,
     "metadata": {},
     "output_type": "execute_result"
    }
   ],
   "source": [
    "d5['course']"
   ]
  },
  {
   "cell_type": "code",
   "execution_count": 30,
   "id": "470610a9-973e-424b-88c0-490f96cfcf42",
   "metadata": {},
   "outputs": [
    {
     "data": {
      "text/plain": [
       "'h'"
      ]
     },
     "execution_count": 30,
     "metadata": {},
     "output_type": "execute_result"
    }
   ],
   "source": [
    "d5['course'][3]"
   ]
  },
  {
   "cell_type": "code",
   "execution_count": 35,
   "id": "b527e7ec-5303-4c38-8db5-0c968c8b6743",
   "metadata": {},
   "outputs": [
    {
     "data": {
      "text/plain": [
       "'mt t8madpya 0m'"
      ]
     },
     "execution_count": 35,
     "metadata": {},
     "output_type": "execute_result"
    }
   ],
   "source": [
    "d5['course'][::2]"
   ]
  },
  {
   "cell_type": "code",
   "execution_count": 37,
   "id": "243ad01a-4ae2-4b86-9961-a3fffd9c3cb6",
   "metadata": {},
   "outputs": [
    {
     "data": {
      "text/plain": [
       "{'lal': 'paths', 'naish': False}"
      ]
     },
     "execution_count": 37,
     "metadata": {},
     "output_type": "execute_result"
    }
   ],
   "source": [
    "d5['mitoo']"
   ]
  },
  {
   "cell_type": "code",
   "execution_count": 38,
   "id": "4bc269ac-de7d-431b-9a2c-55b45fcc4002",
   "metadata": {},
   "outputs": [
    {
     "data": {
      "text/plain": [
       "False"
      ]
     },
     "execution_count": 38,
     "metadata": {},
     "output_type": "execute_result"
    }
   ],
   "source": [
    "d5['mitoo']['naish']"
   ]
  },
  {
   "cell_type": "code",
   "execution_count": 42,
   "id": "a8a61f7e-c793-48b7-8cfb-3a6d3e11cfa6",
   "metadata": {},
   "outputs": [],
   "source": [
    "d5['house no']=['kh no 34']"
   ]
  },
  {
   "cell_type": "code",
   "execution_count": 43,
   "id": "6a22ffab-ff00-466e-80f8-f217dc9ed8bd",
   "metadata": {},
   "outputs": [
    {
     "data": {
      "text/plain": [
       "{'my gmail': 'pkmech',\n",
       " 'course': 'math at 8pm and phy at 10pm',\n",
       " 'mobile number': 7259121353,\n",
       " 'dict': [2, 45, True, 'mail'],\n",
       " 'nail': ('pkgupta', 3, 5, 7),\n",
       " 'mitoo': {'lal': 'paths', 'naish': False},\n",
       " 'house no': ['kh no 34']}"
      ]
     },
     "execution_count": 43,
     "metadata": {},
     "output_type": "execute_result"
    }
   ],
   "source": [
    "d5"
   ]
  },
  {
   "cell_type": "code",
   "execution_count": 45,
   "id": "b0370ec0-1857-4adc-9f83-e367ceb86e2b",
   "metadata": {},
   "outputs": [],
   "source": [
    "del d5['my gmail']"
   ]
  },
  {
   "cell_type": "code",
   "execution_count": 46,
   "id": "32c80b69-0a16-42ec-81f6-6a28d4465987",
   "metadata": {},
   "outputs": [
    {
     "data": {
      "text/plain": [
       "{'course': 'math at 8pm and phy at 10pm',\n",
       " 'mobile number': 7259121353,\n",
       " 'dict': [2, 45, True, 'mail'],\n",
       " 'nail': ('pkgupta', 3, 5, 7),\n",
       " 'mitoo': {'lal': 'paths', 'naish': False},\n",
       " 'house no': ['kh no 34']}"
      ]
     },
     "execution_count": 46,
     "metadata": {},
     "output_type": "execute_result"
    }
   ],
   "source": [
    "d5"
   ]
  },
  {
   "cell_type": "code",
   "execution_count": 47,
   "id": "c8464aa0-c753-4367-8285-0fa44d81b7bb",
   "metadata": {},
   "outputs": [
    {
     "data": {
      "text/plain": [
       "dict_keys(['course', 'mobile number', 'dict', 'nail', 'mitoo', 'house no'])"
      ]
     },
     "execution_count": 47,
     "metadata": {},
     "output_type": "execute_result"
    }
   ],
   "source": [
    "d5.keys()"
   ]
  },
  {
   "cell_type": "code",
   "execution_count": 48,
   "id": "e72d94c0-ab75-4c9e-92b8-66db76fa8d0b",
   "metadata": {},
   "outputs": [
    {
     "data": {
      "text/plain": [
       "dict_values(['math at 8pm and phy at 10pm', 7259121353, [2, 45, True, 'mail'], ('pkgupta', 3, 5, 7), {'lal': 'paths', 'naish': False}, ['kh no 34']])"
      ]
     },
     "execution_count": 48,
     "metadata": {},
     "output_type": "execute_result"
    }
   ],
   "source": [
    "d5.values()"
   ]
  },
  {
   "cell_type": "code",
   "execution_count": 49,
   "id": "df80bcd8-3033-42a4-adbc-d53df4e3470e",
   "metadata": {},
   "outputs": [
    {
     "data": {
      "text/plain": [
       "dict_items([('course', 'math at 8pm and phy at 10pm'), ('mobile number', 7259121353), ('dict', [2, 45, True, 'mail']), ('nail', ('pkgupta', 3, 5, 7)), ('mitoo', {'lal': 'paths', 'naish': False}), ('house no', ['kh no 34'])])"
      ]
     },
     "execution_count": 49,
     "metadata": {},
     "output_type": "execute_result"
    }
   ],
   "source": [
    "d5.items()"
   ]
  },
  {
   "cell_type": "code",
   "execution_count": 50,
   "id": "ab4ced04-fafe-4951-8f7e-a114bfba959b",
   "metadata": {},
   "outputs": [
    {
     "data": {
      "text/plain": [
       "[('course', 'math at 8pm and phy at 10pm'),\n",
       " ('mobile number', 7259121353),\n",
       " ('dict', [2, 45, True, 'mail']),\n",
       " ('nail', ('pkgupta', 3, 5, 7)),\n",
       " ('mitoo', {'lal': 'paths', 'naish': False}),\n",
       " ('house no', ['kh no 34'])]"
      ]
     },
     "execution_count": 50,
     "metadata": {},
     "output_type": "execute_result"
    }
   ],
   "source": [
    "list(d5.items())"
   ]
  },
  {
   "cell_type": "code",
   "execution_count": 51,
   "id": "f65560fa-fb2d-4daf-bd4c-869308795ca7",
   "metadata": {},
   "outputs": [
    {
     "data": {
      "text/plain": [
       "'math at 8pm and phy at 10pm'"
      ]
     },
     "execution_count": 51,
     "metadata": {},
     "output_type": "execute_result"
    }
   ],
   "source": [
    "d5.pop('course')"
   ]
  },
  {
   "cell_type": "code",
   "execution_count": 52,
   "id": "d5017615-9586-46ad-81dd-af7ade575553",
   "metadata": {},
   "outputs": [
    {
     "data": {
      "text/plain": [
       "{'mobile number': 7259121353,\n",
       " 'dict': [2, 45, True, 'mail'],\n",
       " 'nail': ('pkgupta', 3, 5, 7),\n",
       " 'mitoo': {'lal': 'paths', 'naish': False},\n",
       " 'house no': ['kh no 34']}"
      ]
     },
     "execution_count": 52,
     "metadata": {},
     "output_type": "execute_result"
    }
   ],
   "source": [
    "d5"
   ]
  },
  {
   "cell_type": "code",
   "execution_count": 54,
   "id": "678cd773-ed5b-4562-8740-31cf28a17c8a",
   "metadata": {},
   "outputs": [
    {
     "ename": "TypeError",
     "evalue": "pop expected at least 1 argument, got 0",
     "output_type": "error",
     "traceback": [
      "\u001b[0;31m---------------------------------------------------------------------------\u001b[0m",
      "\u001b[0;31mTypeError\u001b[0m                                 Traceback (most recent call last)",
      "Cell \u001b[0;32mIn[54], line 1\u001b[0m\n\u001b[0;32m----> 1\u001b[0m \u001b[43md5\u001b[49m\u001b[38;5;241;43m.\u001b[39;49m\u001b[43mpop\u001b[49m\u001b[43m(\u001b[49m\u001b[43m)\u001b[49m\n",
      "\u001b[0;31mTypeError\u001b[0m: pop expected at least 1 argument, got 0"
     ]
    }
   ],
   "source": [
    "d5.pop()"
   ]
  },
  {
   "cell_type": "code",
   "execution_count": 2,
   "id": "c302d6cd-4739-4bbd-94c0-d3c453be4804",
   "metadata": {},
   "outputs": [
    {
     "name": "stdin",
     "output_type": "stream",
     "text": [
      "enter the marks 56\n"
     ]
    },
    {
     "name": "stdout",
     "output_type": "stream",
     "text": [
      "you will be a part of A2 batch\n"
     ]
    }
   ],
   "source": [
    "marks= int(input(\"enter the marks\"))\n",
    "if marks>=80:\n",
    "    print(\"you will be a part of A0 batch\")\n",
    "elif marks >=60 and marks<80:\n",
    "    print(\"you will be a part of A1 batch\")\n",
    "elif marks>=40 and marks<60:\n",
    "    print(\"you will be a part of A2 batch\")\n",
    "else:\n",
    "    print(\"you will be a part of A3 batch\")\n",
    "    "
   ]
  },
  {
   "cell_type": "code",
   "execution_count": 10,
   "id": "78709d08-8e1a-4dd9-8ea9-94449da17d3e",
   "metadata": {},
   "outputs": [
    {
     "name": "stdin",
     "output_type": "stream",
     "text": [
      "enter price 4999\n"
     ]
    },
    {
     "name": "stdout",
     "output_type": "stream",
     "text": [
      "i will purchase\n"
     ]
    }
   ],
   "source": [
    "price= int(input('enter price'))\n",
    "if price >=5000:\n",
    "    print('i will no purchase')\n",
    "else:\n",
    "    print('i will purchase')"
   ]
  },
  {
   "cell_type": "code",
   "execution_count": 12,
   "id": "626920e8-0026-4068-a8fc-2ac57b36f346",
   "metadata": {},
   "outputs": [
    {
     "name": "stdin",
     "output_type": "stream",
     "text": [
      "enter price 2500\n"
     ]
    },
    {
     "name": "stdout",
     "output_type": "stream",
     "text": [
      "i will no purchase\n"
     ]
    }
   ],
   "source": [
    "price= int(input('enter price'))\n",
    "if price >=2000:\n",
    "    print('i will no purchase')"
   ]
  },
  {
   "cell_type": "code",
   "execution_count": 19,
   "id": "46e8e42b-eab9-4940-a2eb-abdb02949874",
   "metadata": {},
   "outputs": [
    {
     "name": "stdin",
     "output_type": "stream",
     "text": [
      "enter price 50000\n"
     ]
    },
    {
     "name": "stdout",
     "output_type": "stream",
     "text": [
      "i will no purchase\n"
     ]
    }
   ],
   "source": [
    "price= int(input('enter price'))\n",
    "if price >=2000:\n",
    "    print('i will no purchase')\n",
    "    if price < 1500:\n",
    "        print(\"I will be purchase latter\")\n",
    "    elif price >500 and price<1500:\n",
    "        print(\"i will purchase now\")\n",
    "elif price >=2000 and price<3000:\n",
    "    print(\"its okay\")"
   ]
  },
  {
   "cell_type": "code",
   "execution_count": 43,
   "id": "47deebfb-96b8-479b-a044-ec9c4704c713",
   "metadata": {},
   "outputs": [
    {
     "name": "stdin",
     "output_type": "stream",
     "text": [
      "enter price 960\n"
     ]
    },
    {
     "name": "stdout",
     "output_type": "stream",
     "text": [
      "i will be purchase\n",
      "its ok\n"
     ]
    }
   ],
   "source": [
    "price = int(input(\"enter price\"))\n",
    "if price< 1000:\n",
    "    print(\"i will be purchase\")\n",
    "    if price <5000:\n",
    "        print(\"its ok\")\n",
    "elif price >=1000 and price <5000:\n",
    "    print(\"its ok\")        \n",
    "   \n",
    "      \n",
    "        "
   ]
  },
  {
   "cell_type": "code",
   "execution_count": 45,
   "id": "e6f82fd8-0b41-4537-8f87-d76ee5972a6a",
   "metadata": {},
   "outputs": [],
   "source": [
    "l=[1,2,3,4,2,3,5,9,7,8]"
   ]
  },
  {
   "cell_type": "code",
   "execution_count": 46,
   "id": "4b24d95b-7d4e-4a62-8ad7-775cc1568945",
   "metadata": {},
   "outputs": [
    {
     "data": {
      "text/plain": [
       "2"
      ]
     },
     "execution_count": 46,
     "metadata": {},
     "output_type": "execute_result"
    }
   ],
   "source": [
    "l[0]+1"
   ]
  },
  {
   "cell_type": "code",
   "execution_count": 47,
   "id": "4fa34b73-1e01-4f5f-b9fa-96dc3c08101b",
   "metadata": {},
   "outputs": [],
   "source": [
    "l1=[]"
   ]
  },
  {
   "cell_type": "code",
   "execution_count": 48,
   "id": "eeda62f6-0fdf-4882-b8ba-2b185ee127e1",
   "metadata": {},
   "outputs": [],
   "source": [
    "l1.append(l[0]+1)"
   ]
  },
  {
   "cell_type": "code",
   "execution_count": 49,
   "id": "971085ac-7cf8-48eb-9b9d-eb47c5a2dd80",
   "metadata": {},
   "outputs": [
    {
     "data": {
      "text/plain": [
       "[2]"
      ]
     },
     "execution_count": 49,
     "metadata": {},
     "output_type": "execute_result"
    }
   ],
   "source": [
    "l1"
   ]
  },
  {
   "cell_type": "code",
   "execution_count": 50,
   "id": "d63d26f5-8532-4a60-ab1d-0fe059d864db",
   "metadata": {},
   "outputs": [
    {
     "data": {
      "text/plain": [
       "list"
      ]
     },
     "execution_count": 50,
     "metadata": {},
     "output_type": "execute_result"
    }
   ],
   "source": [
    "type(l1)"
   ]
  },
  {
   "cell_type": "code",
   "execution_count": 51,
   "id": "6ced73f9-6c06-4f9b-8385-fbb294e4a20c",
   "metadata": {},
   "outputs": [
    {
     "name": "stdout",
     "output_type": "stream",
     "text": [
      "1\n",
      "2\n",
      "3\n",
      "4\n",
      "2\n",
      "3\n",
      "5\n",
      "5\n",
      "7\n",
      "8\n"
     ]
    }
   ],
   "source": [
    "for i in l:\n",
    "    print(i)"
   ]
  },
  {
   "cell_type": "code",
   "execution_count": 55,
   "id": "946a435c-9861-4427-8b91-441e7fb693f4",
   "metadata": {},
   "outputs": [
    {
     "name": "stdout",
     "output_type": "stream",
     "text": [
      "2\n",
      "3\n",
      "4\n",
      "5\n",
      "3\n",
      "4\n",
      "6\n",
      "6\n",
      "8\n",
      "9\n"
     ]
    }
   ],
   "source": [
    "for i in l:\n",
    "    print(i+1)"
   ]
  },
  {
   "cell_type": "code",
   "execution_count": 74,
   "id": "52210ead-c82d-4991-87c8-251f19b02577",
   "metadata": {},
   "outputs": [
    {
     "ename": "TypeError",
     "evalue": "can only concatenate str (not \"int\") to str",
     "output_type": "error",
     "traceback": [
      "\u001b[0;31m---------------------------------------------------------------------------\u001b[0m",
      "\u001b[0;31mTypeError\u001b[0m                                 Traceback (most recent call last)",
      "Cell \u001b[0;32mIn[74], line 3\u001b[0m\n\u001b[1;32m      1\u001b[0m l1\u001b[38;5;241m=\u001b[39m[]\n\u001b[1;32m      2\u001b[0m \u001b[38;5;28;01mfor\u001b[39;00m i \u001b[38;5;129;01min\u001b[39;00m l:\n\u001b[0;32m----> 3\u001b[0m     \u001b[38;5;28mprint\u001b[39m(\u001b[43mi\u001b[49m\u001b[38;5;241;43m+\u001b[39;49m\u001b[38;5;241;43m1\u001b[39;49m)\n\u001b[1;32m      4\u001b[0m     l1\u001b[38;5;241m.\u001b[39mappend(i\u001b[38;5;241m+\u001b[39m\u001b[38;5;241m1\u001b[39m)\n\u001b[1;32m      5\u001b[0m l1    \n",
      "\u001b[0;31mTypeError\u001b[0m: can only concatenate str (not \"int\") to str"
     ]
    }
   ],
   "source": [
    "l1=[]\n",
    "for i in l:\n",
    "    print(i+1)\n",
    "    l1.append(i+1)\n",
    "l1    \n",
    "   "
   ]
  },
  {
   "cell_type": "code",
   "execution_count": 61,
   "id": "3468e4b2-28e9-49ae-a14d-e21734ae149d",
   "metadata": {},
   "outputs": [
    {
     "data": {
      "text/plain": [
       "[2, 3, 4, 5, 3, 4, 6, 6, 8, 9]"
      ]
     },
     "execution_count": 61,
     "metadata": {},
     "output_type": "execute_result"
    }
   ],
   "source": [
    "l1"
   ]
  },
  {
   "cell_type": "code",
   "execution_count": 62,
   "id": "59ea0f1c-9156-456d-9834-1ef7695ecd25",
   "metadata": {},
   "outputs": [
    {
     "data": {
      "text/plain": [
       "[1, 2, 3, 4, 2, 3, 5, 5, 7, 8]"
      ]
     },
     "execution_count": 62,
     "metadata": {},
     "output_type": "execute_result"
    }
   ],
   "source": [
    "l"
   ]
  },
  {
   "cell_type": "code",
   "execution_count": 63,
   "id": "a9d057a1-6264-460a-8bfb-31b035996b4a",
   "metadata": {},
   "outputs": [],
   "source": [
    "l=['sudh','kumar','prabhat','nalesh']"
   ]
  },
  {
   "cell_type": "code",
   "execution_count": 64,
   "id": "54bd5a95-869c-4e59-a82f-9c2cc9fd0464",
   "metadata": {},
   "outputs": [
    {
     "data": {
      "text/plain": [
       "['sudh', 'kumar', 'prabhat', 'nalesh']"
      ]
     },
     "execution_count": 64,
     "metadata": {},
     "output_type": "execute_result"
    }
   ],
   "source": [
    "l"
   ]
  },
  {
   "cell_type": "code",
   "execution_count": 65,
   "id": "96a0de28-27af-4896-aba6-7c06cf5897f8",
   "metadata": {},
   "outputs": [
    {
     "name": "stdout",
     "output_type": "stream",
     "text": [
      "sudh\n",
      "kumar\n",
      "prabhat\n",
      "nalesh\n"
     ]
    }
   ],
   "source": [
    "for pk in l:\n",
    "    print(pk)"
   ]
  },
  {
   "cell_type": "code",
   "execution_count": 66,
   "id": "b98cea5d-3893-4283-b581-abf5ac762879",
   "metadata": {},
   "outputs": [
    {
     "name": "stdout",
     "output_type": "stream",
     "text": [
      "sudh\n",
      "kumar\n",
      "prabhat\n",
      "nalesh\n"
     ]
    }
   ],
   "source": [
    "l2=[]\n",
    "for pk in l:\n",
    "    print(pk)\n",
    "    l2.append(pk.upper())"
   ]
  },
  {
   "cell_type": "code",
   "execution_count": 67,
   "id": "1a395b4d-f163-4060-b361-2fa7bb74d5a2",
   "metadata": {},
   "outputs": [
    {
     "data": {
      "text/plain": [
       "['SUDH', 'KUMAR', 'PRABHAT', 'NALESH']"
      ]
     },
     "execution_count": 67,
     "metadata": {},
     "output_type": "execute_result"
    }
   ],
   "source": [
    "l2"
   ]
  },
  {
   "cell_type": "code",
   "execution_count": 87,
   "id": "a07bc2ce-29bc-40bf-9990-66c4f2238176",
   "metadata": {},
   "outputs": [],
   "source": [
    "a=[1,4,7,\"pkgupta\",4.77,34,\"male\",43.23,\"sudh\"]"
   ]
  },
  {
   "cell_type": "code",
   "execution_count": 88,
   "id": "60964c93-84d4-43d2-a3e7-4f1e116beb5a",
   "metadata": {},
   "outputs": [],
   "source": [
    "a1_int=[]\n",
    "a2_str=[]\n",
    "for i in a:\n",
    "    if type(i)==int or type(i) == float:\n",
    "        a1_int.append(i)\n",
    "    else:\n",
    "        a2_str.append(i)"
   ]
  },
  {
   "cell_type": "code",
   "execution_count": 89,
   "id": "96f5ecb8-7571-4880-a2b9-021ad4c9ec92",
   "metadata": {},
   "outputs": [
    {
     "data": {
      "text/plain": [
       "[1, 4, 7, 4.77, 34, 43.23]"
      ]
     },
     "execution_count": 89,
     "metadata": {},
     "output_type": "execute_result"
    }
   ],
   "source": [
    "a1_int"
   ]
  },
  {
   "cell_type": "code",
   "execution_count": 90,
   "id": "da311923-f85e-4d89-a546-d0f7e5360987",
   "metadata": {},
   "outputs": [
    {
     "data": {
      "text/plain": [
       "['pkgupta', 'male', 'sudh']"
      ]
     },
     "execution_count": 90,
     "metadata": {},
     "output_type": "execute_result"
    }
   ],
   "source": [
    "a2_str"
   ]
  },
  {
   "cell_type": "code",
   "execution_count": null,
   "id": "337be8f2-4442-4154-9360-e74dd33d69a3",
   "metadata": {},
   "outputs": [],
   "source": []
  }
 ],
 "metadata": {
  "kernelspec": {
   "display_name": "Python 3 (ipykernel)",
   "language": "python",
   "name": "python3"
  },
  "language_info": {
   "codemirror_mode": {
    "name": "ipython",
    "version": 3
   },
   "file_extension": ".py",
   "mimetype": "text/x-python",
   "name": "python",
   "nbconvert_exporter": "python",
   "pygments_lexer": "ipython3",
   "version": "3.10.8"
  }
 },
 "nbformat": 4,
 "nbformat_minor": 5
}
